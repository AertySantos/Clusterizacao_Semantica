{
 "cells": [
  {
   "cell_type": "code",
   "execution_count": 24,
   "metadata": {},
   "outputs": [],
   "source": [
    "import pandas as pd\n",
    "import numpy as np"
   ]
  },
  {
   "cell_type": "code",
   "execution_count": 25,
   "metadata": {},
   "outputs": [
    {
     "data": {
      "text/html": [
       "<div>\n",
       "<style scoped>\n",
       "    .dataframe tbody tr th:only-of-type {\n",
       "        vertical-align: middle;\n",
       "    }\n",
       "\n",
       "    .dataframe tbody tr th {\n",
       "        vertical-align: top;\n",
       "    }\n",
       "\n",
       "    .dataframe thead th {\n",
       "        text-align: right;\n",
       "    }\n",
       "</style>\n",
       "<table border=\"1\" class=\"dataframe\">\n",
       "  <thead>\n",
       "    <tr style=\"text-align: right;\">\n",
       "      <th></th>\n",
       "      <th>LINK</th>\n",
       "      <th>ID da resposta</th>\n",
       "      <th>Data de envio</th>\n",
       "      <th>Última página</th>\n",
       "      <th>Idioma inicial</th>\n",
       "      <th>Semente</th>\n",
       "      <th>Código de Acesso</th>\n",
       "      <th>Data de início</th>\n",
       "      <th>Data da última ação</th>\n",
       "      <th>GENERO</th>\n",
       "      <th>...</th>\n",
       "      <th>ENV2</th>\n",
       "      <th>ENV3</th>\n",
       "      <th>ENV4</th>\n",
       "      <th>ENV5</th>\n",
       "      <th>ENV6</th>\n",
       "      <th>ENV7</th>\n",
       "      <th>ENV8</th>\n",
       "      <th>ENV9</th>\n",
       "      <th>ENV10</th>\n",
       "      <th>0</th>\n",
       "    </tr>\n",
       "  </thead>\n",
       "  <tbody>\n",
       "    <tr>\n",
       "      <th>0</th>\n",
       "      <td>INT</td>\n",
       "      <td>568</td>\n",
       "      <td>2021-06-20 15:00:50</td>\n",
       "      <td>7</td>\n",
       "      <td>pt-BR</td>\n",
       "      <td>1767601499</td>\n",
       "      <td>uB3EaV9IXANbGvm</td>\n",
       "      <td>2021-06-20 14:55:17</td>\n",
       "      <td>2021-06-20 15:00:49</td>\n",
       "      <td>Feminino</td>\n",
       "      <td>...</td>\n",
       "      <td>7</td>\n",
       "      <td>1</td>\n",
       "      <td>5</td>\n",
       "      <td>7</td>\n",
       "      <td>5</td>\n",
       "      <td>1</td>\n",
       "      <td>6</td>\n",
       "      <td>7</td>\n",
       "      <td>5</td>\n",
       "      <td>14</td>\n",
       "    </tr>\n",
       "    <tr>\n",
       "      <th>1</th>\n",
       "      <td>EXT</td>\n",
       "      <td>167</td>\n",
       "      <td>2021-05-21 22:10:05</td>\n",
       "      <td>7</td>\n",
       "      <td>pt-BR</td>\n",
       "      <td>1839169195</td>\n",
       "      <td>2021-05-21 21:59:31</td>\n",
       "      <td>2021-05-21 22:10:05</td>\n",
       "      <td></td>\n",
       "      <td>Feminino</td>\n",
       "      <td>...</td>\n",
       "      <td>3</td>\n",
       "      <td>4</td>\n",
       "      <td>1</td>\n",
       "      <td>4</td>\n",
       "      <td>4</td>\n",
       "      <td>4</td>\n",
       "      <td>3</td>\n",
       "      <td>3</td>\n",
       "      <td>3</td>\n",
       "      <td>8</td>\n",
       "    </tr>\n",
       "    <tr>\n",
       "      <th>2</th>\n",
       "      <td>INT</td>\n",
       "      <td>489</td>\n",
       "      <td>2021-06-20 11:19:30</td>\n",
       "      <td>7</td>\n",
       "      <td>pt-BR</td>\n",
       "      <td>258990084</td>\n",
       "      <td>BgKQgz43AnBGl68</td>\n",
       "      <td>2021-06-20 11:13:00</td>\n",
       "      <td>2021-06-20 11:19:30</td>\n",
       "      <td>Feminino</td>\n",
       "      <td>...</td>\n",
       "      <td>7</td>\n",
       "      <td>7</td>\n",
       "      <td>7</td>\n",
       "      <td>7</td>\n",
       "      <td>7</td>\n",
       "      <td>7</td>\n",
       "      <td>7</td>\n",
       "      <td>7</td>\n",
       "      <td>7</td>\n",
       "      <td>4</td>\n",
       "    </tr>\n",
       "    <tr>\n",
       "      <th>3</th>\n",
       "      <td>INT</td>\n",
       "      <td>536</td>\n",
       "      <td>2021-06-20 13:19:52</td>\n",
       "      <td>7</td>\n",
       "      <td>pt-BR</td>\n",
       "      <td>1424695604</td>\n",
       "      <td>wDN4DUIbrCgBWaG</td>\n",
       "      <td>2021-06-20 13:05:17</td>\n",
       "      <td>2021-06-20 13:19:52</td>\n",
       "      <td>Feminino</td>\n",
       "      <td>...</td>\n",
       "      <td>6</td>\n",
       "      <td>4</td>\n",
       "      <td>5</td>\n",
       "      <td>3</td>\n",
       "      <td>5</td>\n",
       "      <td>5</td>\n",
       "      <td>7</td>\n",
       "      <td>1</td>\n",
       "      <td>7</td>\n",
       "      <td>8</td>\n",
       "    </tr>\n",
       "    <tr>\n",
       "      <th>4</th>\n",
       "      <td>INT</td>\n",
       "      <td>486</td>\n",
       "      <td>2021-06-20 11:07:55</td>\n",
       "      <td>7</td>\n",
       "      <td>pt-BR</td>\n",
       "      <td>667378996</td>\n",
       "      <td>8vgAKmEjIZKMDvf</td>\n",
       "      <td>2021-06-20 11:03:18</td>\n",
       "      <td>2021-06-20 11:07:55</td>\n",
       "      <td>Masculino</td>\n",
       "      <td>...</td>\n",
       "      <td>7</td>\n",
       "      <td>7</td>\n",
       "      <td>7</td>\n",
       "      <td>4</td>\n",
       "      <td>7</td>\n",
       "      <td>5</td>\n",
       "      <td>6</td>\n",
       "      <td>7</td>\n",
       "      <td>7</td>\n",
       "      <td>3</td>\n",
       "    </tr>\n",
       "  </tbody>\n",
       "</table>\n",
       "<p>5 rows × 76 columns</p>\n",
       "</div>"
      ],
      "text/plain": [
       "   LINK   ID da resposta   Data de envio         Última página   \\\n",
       "0  INT                568  2021-06-20 15:00:50                7   \n",
       "1  EXT                167  2021-05-21 22:10:05                7   \n",
       "2  INT                489  2021-06-20 11:19:30                7   \n",
       "3  INT                536  2021-06-20 13:19:52                7   \n",
       "4  INT                486  2021-06-20 11:07:55                7   \n",
       "\n",
       "   Idioma inicial   Semente      Código de Acesso      Data de início        \\\n",
       "0  pt-BR             1767601499  uB3EaV9IXANbGvm       2021-06-20 14:55:17    \n",
       "1  pt-BR             1839169195  2021-05-21 21:59:31   2021-05-21 22:10:05    \n",
       "2  pt-BR              258990084  BgKQgz43AnBGl68       2021-06-20 11:13:00    \n",
       "3  pt-BR             1424695604  wDN4DUIbrCgBWaG       2021-06-20 13:05:17    \n",
       "4  pt-BR              667378996  8vgAKmEjIZKMDvf       2021-06-20 11:03:18    \n",
       "\n",
       "   Data da última ação   GENERO      ...  ENV2  ENV3  ENV4  ENV5  ENV6  ENV7   \\\n",
       "0  2021-06-20 15:00:49   Feminino    ...      7     1     5     7     5     1   \n",
       "1                        Feminino    ...      3     4     1     4     4     4   \n",
       "2  2021-06-20 11:19:30   Feminino    ...      7     7     7     7     7     7   \n",
       "3  2021-06-20 13:19:52   Feminino    ...      6     4     5     3     5     5   \n",
       "4  2021-06-20 11:07:55   Masculino   ...      7     7     7     4     7     5   \n",
       "\n",
       "  ENV8  ENV9  ENV10    0  \n",
       "0     6     7      5  14  \n",
       "1     3     3      3   8  \n",
       "2     7     7      7   4  \n",
       "3     7     1      7   8  \n",
       "4     6     7      7   3  \n",
       "\n",
       "[5 rows x 76 columns]"
      ]
     },
     "execution_count": 25,
     "metadata": {},
     "output_type": "execute_result"
    }
   ],
   "source": [
    "df = pd.read_csv(\"anavet/res.csv\")\n",
    "df.head()"
   ]
  },
  {
   "cell_type": "code",
   "execution_count": 26,
   "metadata": {},
   "outputs": [
    {
     "data": {
      "text/plain": [
       "count    315.000000\n",
       "mean       6.888889\n",
       "std        5.448400\n",
       "min        0.000000\n",
       "25%        2.000000\n",
       "50%        6.000000\n",
       "75%       11.000000\n",
       "max       17.000000\n",
       "Name:  0, dtype: float64"
      ]
     },
     "execution_count": 26,
     "metadata": {},
     "output_type": "execute_result"
    }
   ],
   "source": [
    "filtered_df = df[df.columns[-1]]\n",
    "filtered_df.describe()"
   ]
  },
  {
   "cell_type": "code",
   "execution_count": null,
   "metadata": {},
   "outputs": [
    {
     "data": {
      "text/plain": [
       "count    50.0\n",
       "mean      0.0\n",
       "std       0.0\n",
       "min       0.0\n",
       "25%       0.0\n",
       "50%       0.0\n",
       "75%       0.0\n",
       "max       0.0\n",
       "Name:  0, dtype: float64"
      ]
     },
     "execution_count": 27,
     "metadata": {},
     "output_type": "execute_result"
    }
   ],
   "source": [
    "clustered_data = df[df[df.columns[-1]] == 0].iloc[:, -1]\n",
    "clustered_data.describe()"
   ]
  },
  {
   "cell_type": "code",
   "execution_count": 39,
   "metadata": {},
   "outputs": [
    {
     "name": "stdout",
     "output_type": "stream",
     "text": [
      "count    315.000000\n",
      "mean       6.888889\n",
      "std        5.448400\n",
      "min        0.000000\n",
      "25%        2.000000\n",
      "50%        6.000000\n",
      "75%       11.000000\n",
      "max       17.000000\n",
      "Name:  0, dtype: float64\n"
     ]
    }
   ],
   "source": [
    "cluster_counts = df[df.columns[-1]]\n",
    "print(cluster_counts.describe())\n",
    "\n",
    "\n"
   ]
  },
  {
   "cell_type": "code",
   "execution_count": 37,
   "metadata": {},
   "outputs": [
    {
     "name": "stdout",
     "output_type": "stream",
     "text": [
      " 0\n",
      "0     15.873016\n",
      "8      8.571429\n",
      "4      8.253968\n",
      "2      7.936508\n",
      "3      6.984127\n",
      "17     6.349206\n",
      "11     5.396825\n",
      "15     4.761905\n",
      "1      4.444444\n",
      "12     4.126984\n",
      "9      4.126984\n",
      "6      4.126984\n",
      "10     3.809524\n",
      "5      3.809524\n",
      "13     3.492063\n",
      "7      3.174603\n",
      "14     2.539683\n",
      "16     2.222222\n",
      "Name: proportion, dtype: float64\n"
     ]
    }
   ],
   "source": [
    "cluster_percent = df[df.columns[-1]].value_counts(normalize=True) * 100\n",
    "print(cluster_percent)"
   ]
  },
  {
   "cell_type": "code",
   "execution_count": 43,
   "metadata": {},
   "outputs": [
    {
     "name": "stdout",
     "output_type": "stream",
     "text": [
      "     LINK   ID da resposta   Data de envio         Última página   \\\n",
      "66   INT                757  2021-06-21 07:08:11                7   \n",
      "86   EXT                191  2021-05-24 16:16:58                7   \n",
      "116  INT                288  2021-06-19 12:08:59                7   \n",
      "117  INT                527  2021-06-20 12:51:14                7   \n",
      "119  EXT                 64  2021-05-14 17:50:53                7   \n",
      "\n",
      "     Idioma inicial   Semente      Código de Acesso      Data de início        \\\n",
      "66   pt-BR             1232572391  WFxmOLwQxaw8cnt       2021-06-21 06:58:00    \n",
      "86   pt-BR               27937554  2021-05-24 16:11:21   2021-05-24 16:16:58    \n",
      "116  pt-BR             2115139298  Y8lNspShBeHtTVo       2021-06-19 11:50:18    \n",
      "117  pt-BR             1739692955  APIUQYPYN9TDusS       2021-06-20 12:44:47    \n",
      "119  pt-BR               95358600  2021-05-14 17:37:11   2021-05-14 17:50:53    \n",
      "\n",
      "     Data da última ação   GENERO      ...  ENV2  ENV3  ENV4  ENV5  ENV6   \\\n",
      "66   2021-06-21 07:08:11   Feminino    ...      6     6     6     6     6   \n",
      "86                         Feminino    ...      6     7     5     4     5   \n",
      "116  2021-06-19 12:08:59   Masculino   ...      7     7     5     6     6   \n",
      "117  2021-06-20 12:51:14               ...      7     7     5     7     6   \n",
      "119                                    ...      7     7     7     7     6   \n",
      "\n",
      "    ENV7  ENV8  ENV9  ENV10   0  \n",
      "66      5     6     6      6  0  \n",
      "86      6     7     5      5  0  \n",
      "116     5     7     6      6  0  \n",
      "117     6     6     7      6  0  \n",
      "119     6     4     6      7  0  \n",
      "\n",
      "[5 rows x 76 columns]\n"
     ]
    }
   ],
   "source": [
    "cluster_0 = df[df[df.columns[-1]] == 0]\n",
    "print(cluster_0.head())"
   ]
  }
 ],
 "metadata": {
  "kernelspec": {
   "display_name": "llms",
   "language": "python",
   "name": "python3"
  },
  "language_info": {
   "codemirror_mode": {
    "name": "ipython",
    "version": 3
   },
   "file_extension": ".py",
   "mimetype": "text/x-python",
   "name": "python",
   "nbconvert_exporter": "python",
   "pygments_lexer": "ipython3",
   "version": "3.11.10"
  }
 },
 "nbformat": 4,
 "nbformat_minor": 2
}
